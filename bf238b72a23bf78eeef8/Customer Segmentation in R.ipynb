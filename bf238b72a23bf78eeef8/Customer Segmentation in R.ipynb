{
 "cells": [
  {
   "cell_type": "code",
   "execution_count": 1,
   "metadata": {
    "collapsed": false
   },
   "outputs": [
    {
     "name": "stderr",
     "output_type": "stream",
     "text": [
      "\n",
      "Attaching package: ‘dplyr’\n",
      "\n",
      "The following objects are masked from ‘package:stats’:\n",
      "\n",
      "    filter, lag\n",
      "\n",
      "The following objects are masked from ‘package:base’:\n",
      "\n",
      "    intersect, setdiff, setequal, union\n",
      "\n",
      "Loading required package: grid\n",
      "Loading required package: scales\n",
      "Loading required package: proto\n"
     ]
    }
   ],
   "source": [
    "suppressPackageStartupMessages(library(readxl))    # free data from excel hades\n",
    "suppressPackageStartupMessages(library(dplyr))     # sane data manipulation\n",
    "suppressPackageStartupMessages(library(tidyr))     # sane data munging\n",
    "suppressPackageStartupMessages(library(viridis))   # sane colors\n",
    "suppressPackageStartupMessages(library(ggplot2))   # needs no introduction\n",
    "suppressPackageStartupMessages(library(ggfortify)) # super-helpful for plotting non-\"standard\" stats objects"
   ]
  },
  {
   "cell_type": "code",
   "execution_count": null,
   "metadata": {
    "collapsed": true
   },
   "outputs": [],
   "source": [
    "url <- \"http://blog.yhathq.com/static/misc/data/WineKMC.xlsx\"\n",
    "fil <- basename(url)\n",
    "if (!file.exists(fil)) download.file(url, fil)"
   ]
  },
  {
   "cell_type": "code",
   "execution_count": null,
   "metadata": {
    "collapsed": true
   },
   "outputs": [],
   "source": [
    "offers <- read_excel(fil, sheet = 1)\n",
    "colnames(offers) <- c(\"offer_id\", \"campaign\", \"varietal\", \"min_qty\", \"discount\", \"origin\", \"past_peak\")\n",
    "head(offers)"
   ]
  },
  {
   "cell_type": "code",
   "execution_count": null,
   "metadata": {
    "collapsed": true
   },
   "outputs": [],
   "source": [
    "transactions <- read_excel(fil, sheet = 2)\n",
    "colnames(transactions) <- c(\"customer_name\", \"offer_id\")\n",
    "transactions$n <- 1\n",
    "head(transactions)"
   ]
  },
  {
   "cell_type": "code",
   "execution_count": null,
   "metadata": {
    "collapsed": true
   },
   "outputs": [],
   "source": [
    "# join the offers and transactions table\n",
    "left_join(offers, transactions, by=\"offer_id\") %>% \n",
    "# get the number of times each customer responded to a given offer\n",
    "  count(customer_name, offer_id, wt=n) %>%\n",
    "# change it from long to wide\n",
    "  spread(offer_id, n) %>%\n",
    "# and fill in the NAs that get generated as a result\n",
    "  mutate_each(funs(ifelse(is.na(.), 0, .))) -> dat"
   ]
  },
  {
   "cell_type": "code",
   "execution_count": null,
   "metadata": {
    "collapsed": true
   },
   "outputs": [],
   "source": [
    "fit <- kmeans(dat[,-1], 5, iter.max=1000)\n",
    "table(fit$cluster)\n",
    "barplot(table(fit$cluster), col=\"maroon\")"
   ]
  },
  {
   "cell_type": "code",
   "execution_count": null,
   "metadata": {
    "collapsed": true
   },
   "outputs": [],
   "source": [
    "pca <- prcomp(dat[,-1])\n",
    "pca_dat <- mutate(fortify(pca), col=fit$cluster)\n",
    "ggplot(pca_dat) +\n",
    "  geom_point(aes(x=PC1, y=PC2, fill=factor(col)), size=3, col=\"#7f7f7f\", shape=21) +\n",
    "  scale_fill_viridis(name=\"Cluster\", discrete=TRUE) + theme_bw(base_family=\"Helvetica\")"
   ]
  },
  {
   "cell_type": "code",
   "execution_count": null,
   "metadata": {
    "collapsed": true
   },
   "outputs": [],
   "source": [
    "autoplot(fit, data=dat[,-1], frame=TRUE, frame.type='norm')"
   ]
  },
  {
   "cell_type": "code",
   "execution_count": null,
   "metadata": {
    "collapsed": true
   },
   "outputs": [],
   "source": [
    "transactions %>% \n",
    "  left_join(data_frame(customer_name=dat$customer_name, \n",
    "                       cluster=fit$cluster)) %>% \n",
    "  left_join(offers) -> customer_clusters\n",
    "\n",
    "customer_clusters %>% \n",
    "  mutate(is_4=(cluster==4)) %>% \n",
    "  count(is_4, varietal) -> varietal_4\n",
    "\n",
    "varietal_4"
   ]
  },
  {
   "cell_type": "code",
   "execution_count": null,
   "metadata": {
    "collapsed": true
   },
   "outputs": [],
   "source": [
    "varietal_4"
   ]
  },
  {
   "cell_type": "code",
   "execution_count": null,
   "metadata": {
    "collapsed": true
   },
   "outputs": [],
   "source": [
    "customer_clusters %>% \n",
    "  mutate(is_4=(cluster==4)) %>% \n",
    "  group_by(is_4) %>% \n",
    "  summarise_each(funs(mean), min_qty, discount) -> mean_4\n",
    "\n",
    "mean_4"
   ]
  }
 ],
 "metadata": {
  "kernelspec": {
   "display_name": "R",
   "language": "R",
   "name": "ir"
  },
  "language_info": {
   "codemirror_mode": "r",
   "file_extension": ".r",
   "mimetype": "text/x-r-source",
   "name": "R",
   "pygments_lexer": "r",
   "version": "3.2.2"
  }
 },
 "nbformat": 4,
 "nbformat_minor": 0
}
